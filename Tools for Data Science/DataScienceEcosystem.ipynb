{
 "cells": [
  {
   "cell_type": "markdown",
   "id": "a889b19d-4326-4be3-9029-76a4710285ee",
   "metadata": {},
   "source": [
    "# Data Science Tools and Ecosystem"
   ]
  },
  {
   "cell_type": "markdown",
   "id": "4b1c4602-d1ab-4cb0-b9e2-cfa02f3cb216",
   "metadata": {},
   "source": [
    "In this notebook, Data Science Tools and Ecosystem are summarized."
   ]
  },
  {
   "cell_type": "markdown",
   "id": "d065fcd3-982f-400d-bb34-2e3b610b8a8a",
   "metadata": {},
   "source": [
    "**Objectives:**\n",
    "- List of popular languages that Data Scientists use\n",
    "- Commonly used libraries used by Data Scientists\n",
    "- Commonly used Data Science Tools used by Data Scientists\n",
    "- Arithmetic Expressions"
   ]
  },
  {
   "cell_type": "markdown",
   "id": "25b23024-1e6e-45b3-b6a8-0f89f2d7698f",
   "metadata": {},
   "source": [
    "## Author\n",
    "Siméia Avellar Pedroso"
   ]
  },
  {
   "cell_type": "markdown",
   "id": "9f8af3f7-cb9e-4415-bd21-5c8ae141549a",
   "metadata": {},
   "source": [
    "## Some of the popular languages that Data Scientists use are:\n",
    "1. Python\n",
    "2. R\n",
    "3. SQL\n",
    "4. Java\n",
    "5. C/C++"
   ]
  },
  {
   "cell_type": "markdown",
   "id": "c5557d05-28a8-41ec-b352-84215ddbbe87",
   "metadata": {},
   "source": [
    "## Some of the commonly used libraries used by Data Scientists include:\n",
    "1. Pandas - Biblioteca Python para manipulação de dados com estruturas como DataFrame.\n",
    "2. NumPy - Biblioteca Python para computação numérica com arrays e operações vetorizadas\n",
    "3. Scikit-learn - Biblioteca Python para algoritmos de machine learning.\n",
    "4. Matplotlib - Biblioteca Python para criação de visualizações gráficas.\n",
    "5. Seaborn - Biblioteca de visualização baseada no Matplotlib.\n"
   ]
  },
  {
   "cell_type": "markdown",
   "id": "17ae0311-20a0-4127-b617-cc3d04b190cf",
   "metadata": {},
   "source": [
    "## Some of the commonly used Data Science Tools used by Data Scientists include:\n",
    "| Data Science Tools | Description |\n",
    "|:-------------------|:------------|\n",
    "| TensorFlow | An open-source machine learning framework developed by Google for building and deploying neural networks.  |\n",
    "| Seaborn | A Python library built on Matplotlib, providing a high-level interface for creating aesthetically pleasing and informative statistical graphics.  |\n",
    "| Apache Spark | A unified analytics engine for large-scale data processing, compatible with Hadoop ecosystems. |\n",
    "| Apache Hadoop | A distributed storage and processing framework for large datasets.  |\n",
    "| Jupyter Notebook | An interactive environment for writing and sharing documents that combine code, visualizations, and text.  |\n",
    "| KNIME | An open-source platform for data analytics, offering a graphical interface for designing and executing data workflows.  |\n",
    "| Weka | A data mining and machine learning software, providing various algorithms and functionalities for data analysis.  |\n"
   ]
  },
  {
   "cell_type": "markdown",
   "id": "8dcb421f-ef29-44fc-ae7e-f67de712c955",
   "metadata": {},
   "source": [
    "## Arithmetic Expressions\n",
    "Below are a few examples of evaluating arithmetic expressions in Python:"
   ]
  },
  {
   "cell_type": "code",
   "execution_count": 6,
   "id": "a7f3ee25-3b27-4f06-a2bf-fc25c33aa4a6",
   "metadata": {},
   "outputs": [
    {
     "name": "stdout",
     "output_type": "stream",
     "text": [
      "9\n",
      "7\n",
      "42\n",
      "3.75\n",
      "3\n",
      "3\n",
      "32\n",
      "15.0\n"
     ]
    }
   ],
   "source": [
    "# Example 1: Addition\n",
    "print(4 + 5)      # 9\n",
    "\n",
    "# Example 2: Subtraction with variables\n",
    "a = 10\n",
    "b = 3\n",
    "print(a - b)      # 7\n",
    "\n",
    "# Example 3: Multiplication and division\n",
    "print(6 * 7)      # 42\n",
    "print(15 / 4)     # 3.75\n",
    "\n",
    "# Example 4: Integer division and modulus\n",
    "print(15 // 4)    # 3   (quotient without remainder)\n",
    "print(15 % 4)     # 3   (remainder of the division)\n",
    "\n",
    "# Example 5: Exponentiation\n",
    "print(2 ** 5)     # 32  (2 raised to the power of 5)\n",
    "\n",
    "# Example 6: Combined expression\n",
    "print((3 + 2) * (10 - 4) / 2)  # Result: 15.0"
   ]
  },
  {
   "cell_type": "code",
   "execution_count": 7,
   "id": "b1a4dc78-2756-4338-b668-4993888be225",
   "metadata": {},
   "outputs": [
    {
     "name": "stdout",
     "output_type": "stream",
     "text": [
      "3.33 hours\n"
     ]
    }
   ],
   "source": [
    "#This will convert 200 minutes to hours by diving by 60\n",
    "print(f\"{200 / 60:.2f} hours\")"
   ]
  },
  {
   "cell_type": "code",
   "execution_count": null,
   "id": "456d4a90-5199-4397-8082-ce1b7a8c221a",
   "metadata": {},
   "outputs": [],
   "source": []
  }
 ],
 "metadata": {
  "kernelspec": {
   "display_name": "Python [conda env:base] *",
   "language": "python",
   "name": "conda-base-py"
  },
  "language_info": {
   "codemirror_mode": {
    "name": "ipython",
    "version": 3
   },
   "file_extension": ".py",
   "mimetype": "text/x-python",
   "name": "python",
   "nbconvert_exporter": "python",
   "pygments_lexer": "ipython3",
   "version": "3.12.7"
  }
 },
 "nbformat": 4,
 "nbformat_minor": 5
}
